{
 "cells": [
  {
   "cell_type": "code",
   "execution_count": 1,
   "id": "61eb12db-d592-4386-9594-3f87b107af9a",
   "metadata": {
    "tags": []
   },
   "outputs": [
    {
     "name": "stderr",
     "output_type": "stream",
     "text": [
      "C:\\Users\\s2194774\\AppData\\Local\\anaconda3\\Lib\\site-packages\\numpy\\core\\fromnumeric.py:3504: RuntimeWarning: Mean of empty slice.\n",
      "  return _methods._mean(a, axis=axis, dtype=dtype,\n",
      "C:\\Users\\s2194774\\AppData\\Local\\anaconda3\\Lib\\site-packages\\numpy\\core\\_methods.py:129: RuntimeWarning: invalid value encountered in scalar divide\n",
      "  ret = ret.dtype.type(ret / rcount)\n"
     ]
    },
    {
     "ename": "NameError",
     "evalue": "name 'b10d1' is not defined",
     "output_type": "error",
     "traceback": [
      "\u001b[1;31m---------------------------------------------------------------------------\u001b[0m",
      "\u001b[1;31mNameError\u001b[0m                                 Traceback (most recent call last)",
      "Cell \u001b[1;32mIn[1], line 41\u001b[0m\n\u001b[0;32m     37\u001b[0m t9d4_mean \u001b[38;5;241m=\u001b[39m np\u001b[38;5;241m.\u001b[39mmean(t9d1)\n\u001b[0;32m     39\u001b[0m \u001b[38;5;66;03m#mod\u001b[39;00m\n\u001b[1;32m---> 41\u001b[0m b10d4_mean \u001b[38;5;241m=\u001b[39m np\u001b[38;5;241m.\u001b[39mmean(b10d1)\n\u001b[0;32m     42\u001b[0m b11d4_mean \u001b[38;5;241m=\u001b[39m np\u001b[38;5;241m.\u001b[39mmean(b11d1)\n\u001b[0;32m     43\u001b[0m b12d4_mean \u001b[38;5;241m=\u001b[39m np\u001b[38;5;241m.\u001b[39mmean(b12d1)\n",
      "\u001b[1;31mNameError\u001b[0m: name 'b10d1' is not defined"
     ]
    }
   ],
   "source": [
    "import numpy as np\n",
    "import matplotlib.pyplot as plt\n",
    "import os\n",
    "import re\n",
    "import math\n",
    "\n",
    "cgtbd0 = np.array([23E5, 25.5E5, 26E5, 28E5])\n",
    "\n",
    "c1d1 = np.array([])\n",
    "c2d1 = np.array([])\n",
    "c3d1 = np.array([])\n",
    "g4d1 = np.array([])\n",
    "g5d1 = np.array([])\n",
    "g6d1 = np.array([])\n",
    "t7d1 = np.array([])\n",
    "t8d1 = np.array([])\n",
    "t9d1 = np.array([])\n",
    "\n",
    "#mod\n",
    "\n",
    "cgtbd0_mean = np.mean(cgtbd0)\n",
    "\n",
    "c1d4_mean = np.mean(c1d1)\n",
    "c2d4_mean = np.mean(c2d1)\n",
    "c3d4_mean = np.mean(c3d1)\n",
    "\n",
    "#mod\n",
    "\n",
    "g4d4_mean = np.mean(g4d1)\n",
    "g5d4_mean = np.mean(g5d1)\n",
    "g6d4_mean = np.mean(g6d1)\n",
    "\n",
    "#mod\n",
    "\n",
    "t7d4_mean = np.mean(t7d1)\n",
    "t8d4_mean = np.mean(t8d1)\n",
    "t9d4_mean = np.mean(t9d1)\n",
    "\n",
    "#mod\n",
    "\n",
    "b10d4_mean = np.mean(b10d1)\n",
    "b11d4_mean = np.mean(b11d1)\n",
    "b12d4_mean = np.mean(b12d1)\n",
    "\n",
    "#mod"
   ]
  },
  {
   "cell_type": "code",
   "execution_count": 2,
   "id": "73c26ea1-fbf6-468a-84d4-c2abceea95f3",
   "metadata": {
    "tags": []
   },
   "outputs": [
    {
     "ename": "NameError",
     "evalue": "name 'bd0_mean' is not defined",
     "output_type": "error",
     "traceback": [
      "\u001b[1;31m---------------------------------------------------------------------------\u001b[0m",
      "\u001b[1;31mNameError\u001b[0m                                 Traceback (most recent call last)",
      "Cell \u001b[1;32mIn[2], line 22\u001b[0m\n\u001b[0;32m     19\u001b[0m t9 \u001b[38;5;241m=\u001b[39m np\u001b[38;5;241m.\u001b[39marray([cgtbd0_mean,]) \u001b[38;5;66;03m#mod\u001b[39;00m\n\u001b[0;32m     20\u001b[0m t9n \u001b[38;5;241m=\u001b[39m t9\u001b[38;5;241m/\u001b[39mcgtbd0_mean\n\u001b[1;32m---> 22\u001b[0m b10 \u001b[38;5;241m=\u001b[39m np\u001b[38;5;241m.\u001b[39marray([bd0_mean,]) \u001b[38;5;66;03m#mod\u001b[39;00m\n\u001b[0;32m     23\u001b[0m b10n \u001b[38;5;241m=\u001b[39m b10\u001b[38;5;241m/\u001b[39mcgtbd0_mean\n\u001b[0;32m     24\u001b[0m b11 \u001b[38;5;241m=\u001b[39m np\u001b[38;5;241m.\u001b[39marray([bd0_mean,]) \u001b[38;5;66;03m#mod\u001b[39;00m\n",
      "\u001b[1;31mNameError\u001b[0m: name 'bd0_mean' is not defined"
     ]
    }
   ],
   "source": [
    "c1 = np.array([cgtbd0_mean,]) #mod\n",
    "c1n = c1/cgtbd0_mean\n",
    "c2 = np.array([cgtbd0_mean, ]) #mod    \n",
    "c2n = c2/cgtbd0_mean\n",
    "c3 = np.array([cgtbd0_mean, ]) #mod\n",
    "c3n = c3/cgtbd0_mean\n",
    "\n",
    "g4 = np.array([cgtbd0_mean]) #mod\n",
    "g4n = g4/cgtbd0_mean\n",
    "g5 = np.array([cgtbd0_mean,]) #mod    \n",
    "g5n = g5/cgtbd0_mean\n",
    "g6 = np.array([cgtbd0_mean, ]) #mod\n",
    "g6n = g6/cgtbd0_mean\n",
    "\n",
    "t7 = np.array([cgtbd0_mean,]) #mod\n",
    "t7n = t7/cgtbd0_mean\n",
    "t8 = np.array([cgtbd0_mean,]) #mod\n",
    "t8n = t8/cgtbd0_mean\n",
    "t9 = np.array([cgtbd0_mean,]) #mod\n",
    "t9n = t9/cgtbd0_mean\n",
    "\n",
    "b10 = np.array([bd0_mean,]) #mod\n",
    "b10n = b10/cgtbd0_mean\n",
    "b11 = np.array([bd0_mean,]) #mod\n",
    "b11n = b11/cgtbd0_mean\n",
    "b12 = np.array([bd0_mean,]) #mod\n",
    "b12n = b12/cgtbd0_mean"
   ]
  },
  {
   "cell_type": "code",
   "execution_count": 3,
   "id": "c3dcd548-0d60-4d32-b3dd-60dad1b6d26f",
   "metadata": {},
   "outputs": [
    {
     "name": "stdout",
     "output_type": "stream",
     "text": [
      "178097.58560968758\n"
     ]
    },
    {
     "name": "stderr",
     "output_type": "stream",
     "text": [
      "C:\\Users\\s2194774\\AppData\\Local\\anaconda3\\Lib\\site-packages\\numpy\\core\\_methods.py:206: RuntimeWarning: Degrees of freedom <= 0 for slice\n",
      "  ret = _var(a, axis=axis, dtype=dtype, out=out, ddof=ddof,\n",
      "C:\\Users\\s2194774\\AppData\\Local\\anaconda3\\Lib\\site-packages\\numpy\\core\\_methods.py:163: RuntimeWarning: invalid value encountered in divide\n",
      "  arrmean = um.true_divide(arrmean, div, out=arrmean,\n",
      "C:\\Users\\s2194774\\AppData\\Local\\anaconda3\\Lib\\site-packages\\numpy\\core\\_methods.py:198: RuntimeWarning: invalid value encountered in scalar divide\n",
      "  ret = ret.dtype.type(ret / rcount)\n"
     ]
    },
    {
     "ename": "NameError",
     "evalue": "name 'b10d1' is not defined",
     "output_type": "error",
     "traceback": [
      "\u001b[1;31m---------------------------------------------------------------------------\u001b[0m",
      "\u001b[1;31mNameError\u001b[0m                                 Traceback (most recent call last)",
      "Cell \u001b[1;32mIn[3], line 21\u001b[0m\n\u001b[0;32m     18\u001b[0m stdev_t8 \u001b[38;5;241m=\u001b[39m np\u001b[38;5;241m.\u001b[39marray([day0_stdev, np\u001b[38;5;241m.\u001b[39mstd(t8d1)])\n\u001b[0;32m     19\u001b[0m stdev_t9 \u001b[38;5;241m=\u001b[39m np\u001b[38;5;241m.\u001b[39marray([day0_stdev, np\u001b[38;5;241m.\u001b[39mstd(t9d1)])\n\u001b[1;32m---> 21\u001b[0m stdev_b10 \u001b[38;5;241m=\u001b[39m np\u001b[38;5;241m.\u001b[39marray([day0_stdev, np\u001b[38;5;241m.\u001b[39mstd(b10d1)])\n\u001b[0;32m     22\u001b[0m stdev_b11 \u001b[38;5;241m=\u001b[39m np\u001b[38;5;241m.\u001b[39marray([day0_stdev, np\u001b[38;5;241m.\u001b[39mstd(b11d1)])\n\u001b[0;32m     23\u001b[0m stdev_b12 \u001b[38;5;241m=\u001b[39m np\u001b[38;5;241m.\u001b[39marray([day0_stdev, np\u001b[38;5;241m.\u001b[39mstd(b12d1)])\n",
      "\u001b[1;31mNameError\u001b[0m: name 'b10d1' is not defined"
     ]
    }
   ],
   "source": [
    "import statistics\n",
    "\n",
    "day0_stdev = np.std(cgtbd0)\n",
    "\n",
    "day_0_sem = day0_stdev/(4**0.5)\n",
    "print(day0_stdev)\n",
    "\n",
    "\n",
    "stdev_c1 = np.array([day0_stdev, np.std(c1d1)])\n",
    "stdev_c2 = np.array([day0_stdev, np.std(c2d1)])\n",
    "stdev_c3 = np.array([day0_stdev, np.std(c3d1)])\n",
    "\n",
    "stdev_g4 = np.array([day0_stdev, np.std(g4d1)])\n",
    "stdev_g5 = np.array([day0_stdev, np.std(g5d1)])\n",
    "stdev_g6 = np.array([day0_stdev, np.std(g6d1)])\n",
    "\n",
    "stdev_t7 = np.array([day0_stdev, np.std(t7d1)])\n",
    "stdev_t8 = np.array([day0_stdev, np.std(t8d1)])\n",
    "stdev_t9 = np.array([day0_stdev, np.std(t9d1)])\n",
    "\n",
    "stdev_b10 = np.array([day0_stdev, np.std(b10d1)])\n",
    "stdev_b11 = np.array([day0_stdev, np.std(b11d1)])\n",
    "stdev_b12 = np.array([day0_stdev, np.std(b12d1)])\n",
    "\n",
    "#mod all of above\n",
    "\n",
    "sem_c1 = stdev_c1/(4**0.5)\n",
    "sem_c2 = stdev_c2/(4**0.5)\n",
    "sem_c3 = stdev_c3/(4**0.5)\n",
    "sem_g4 = stdev_g4/(4**0.5)\n",
    "sem_g5 = stdev_g5/(4**0.5)\n",
    "sem_g6 = stdev_g6/(4**0.5)\n",
    "sem_t7 = stdev_t7/(4**0.5)\n",
    "sem_t8 = stdev_t8/(4**0.5)\n",
    "sem_t9 = stdev_t9/(4**0.5)\n",
    "sem_b10 = stdev_b10/(4**0.5)\n",
    "sem_b11 = stdev_b11/(4**0.5)\n",
    "sem_b12 = stdev_b12/(4**0.5)\n",
    "\n",
    "sem_c1_n = sem_c1/cgtbd0_mean\n",
    "sem_c2_n = sem_c2/cgtbd0_mean\n",
    "sem_c3_n = sem_c3/cgtbd0_mean\n",
    "sem_g4_n = sem_g4/cgtbd0_mean\n",
    "sem_g5_n = sem_g5/cgtbd0_mean\n",
    "sem_g6_n = sem_g6/cgtbd0_mean\n",
    "sem_t7_n = sem_t7/cgtbd0_mean\n",
    "sem_t8_n = sem_t8/cgtbd0_mean\n",
    "sem_t9_n = sem_t9/cgtbd0_mean\n",
    "sem_b10_n = sem_b10/cgtbd0_mean\n",
    "sem_b11_n = sem_b11/cgtbd0_mean\n",
    "sem_b12_n = sem_b12/cgtbd0_mean\n",
    "\n",
    "print('stdev c1', np.shape(stdev_c1), stdev_c1)\n",
    "print('sem c1', np.shape(sem_c1), sem_c1)\n",
    "print('sem_n c1', np.shape(sem_c1_n), sem_c1_n)\n",
    "\n"
   ]
  },
  {
   "cell_type": "code",
   "execution_count": 4,
   "id": "2fc64708-13fa-4488-8545-0a546198d227",
   "metadata": {
    "tags": []
   },
   "outputs": [
    {
     "ename": "ValueError",
     "evalue": "x and y must have same first dimension, but have shapes (2,) and (1,)",
     "output_type": "error",
     "traceback": [
      "\u001b[1;31m---------------------------------------------------------------------------\u001b[0m",
      "\u001b[1;31mValueError\u001b[0m                                Traceback (most recent call last)",
      "Cell \u001b[1;32mIn[4], line 4\u001b[0m\n\u001b[0;32m      1\u001b[0m day \u001b[38;5;241m=\u001b[39m np\u001b[38;5;241m.\u001b[39marray([\u001b[38;5;241m0\u001b[39m, \u001b[38;5;241m1\u001b[39m]) \u001b[38;5;66;03m#mod\u001b[39;00m\n\u001b[0;32m      3\u001b[0m plt\u001b[38;5;241m.\u001b[39mfigure(figsize\u001b[38;5;241m=\u001b[39m(\u001b[38;5;241m10\u001b[39m, \u001b[38;5;241m8\u001b[39m))\n\u001b[1;32m----> 4\u001b[0m plt\u001b[38;5;241m.\u001b[39msemilogy(day, c1n, label\u001b[38;5;241m=\u001b[39m\u001b[38;5;124m\"\u001b[39m\u001b[38;5;124mc1\u001b[39m\u001b[38;5;124m\"\u001b[39m, color\u001b[38;5;241m=\u001b[39m\u001b[38;5;124m\"\u001b[39m\u001b[38;5;124m#FF0000\u001b[39m\u001b[38;5;124m\"\u001b[39m)\n\u001b[0;32m      5\u001b[0m plt\u001b[38;5;241m.\u001b[39merrorbar(day, c1n, yerr\u001b[38;5;241m=\u001b[39msem_c1_n, fmt\u001b[38;5;241m=\u001b[39m\u001b[38;5;124m'\u001b[39m\u001b[38;5;124mo\u001b[39m\u001b[38;5;124m'\u001b[39m, capsize\u001b[38;5;241m=\u001b[39m\u001b[38;5;241m5\u001b[39m, color\u001b[38;5;241m=\u001b[39m\u001b[38;5;124m\"\u001b[39m\u001b[38;5;124m#FF0000\u001b[39m\u001b[38;5;124m\"\u001b[39m, alpha\u001b[38;5;241m=\u001b[39m\u001b[38;5;241m0.4\u001b[39m)\n\u001b[0;32m      6\u001b[0m plt\u001b[38;5;241m.\u001b[39msemilogy(day, c2n, label\u001b[38;5;241m=\u001b[39m\u001b[38;5;124m\"\u001b[39m\u001b[38;5;124mc2, d7=overgrown\u001b[39m\u001b[38;5;124m\"\u001b[39m, color\u001b[38;5;241m=\u001b[39m\u001b[38;5;124m\"\u001b[39m\u001b[38;5;124m#AA0000\u001b[39m\u001b[38;5;124m\"\u001b[39m)\n",
      "File \u001b[1;32m~\\AppData\\Local\\anaconda3\\Lib\\site-packages\\matplotlib\\pyplot.py:3933\u001b[0m, in \u001b[0;36msemilogy\u001b[1;34m(*args, **kwargs)\u001b[0m\n\u001b[0;32m   3931\u001b[0m \u001b[38;5;129m@_copy_docstring_and_deprecators\u001b[39m(Axes\u001b[38;5;241m.\u001b[39msemilogy)\n\u001b[0;32m   3932\u001b[0m \u001b[38;5;28;01mdef\u001b[39;00m \u001b[38;5;21msemilogy\u001b[39m(\u001b[38;5;241m*\u001b[39margs, \u001b[38;5;241m*\u001b[39m\u001b[38;5;241m*\u001b[39mkwargs) \u001b[38;5;241m-\u001b[39m\u001b[38;5;241m>\u001b[39m \u001b[38;5;28mlist\u001b[39m[Line2D]:\n\u001b[1;32m-> 3933\u001b[0m     \u001b[38;5;28;01mreturn\u001b[39;00m gca()\u001b[38;5;241m.\u001b[39msemilogy(\u001b[38;5;241m*\u001b[39margs, \u001b[38;5;241m*\u001b[39m\u001b[38;5;241m*\u001b[39mkwargs)\n",
      "File \u001b[1;32m~\\AppData\\Local\\anaconda3\\Lib\\site-packages\\matplotlib\\axes\\_axes.py:2014\u001b[0m, in \u001b[0;36mAxes.semilogy\u001b[1;34m(self, *args, **kwargs)\u001b[0m\n\u001b[0;32m   2010\u001b[0m d \u001b[38;5;241m=\u001b[39m {k: v \u001b[38;5;28;01mfor\u001b[39;00m k, v \u001b[38;5;129;01min\u001b[39;00m kwargs\u001b[38;5;241m.\u001b[39mitems()\n\u001b[0;32m   2011\u001b[0m      \u001b[38;5;28;01mif\u001b[39;00m k \u001b[38;5;129;01min\u001b[39;00m [\u001b[38;5;124m'\u001b[39m\u001b[38;5;124mbase\u001b[39m\u001b[38;5;124m'\u001b[39m, \u001b[38;5;124m'\u001b[39m\u001b[38;5;124msubs\u001b[39m\u001b[38;5;124m'\u001b[39m, \u001b[38;5;124m'\u001b[39m\u001b[38;5;124mnonpositive\u001b[39m\u001b[38;5;124m'\u001b[39m,\n\u001b[0;32m   2012\u001b[0m               \u001b[38;5;124m'\u001b[39m\u001b[38;5;124mbasey\u001b[39m\u001b[38;5;124m'\u001b[39m, \u001b[38;5;124m'\u001b[39m\u001b[38;5;124msubsy\u001b[39m\u001b[38;5;124m'\u001b[39m, \u001b[38;5;124m'\u001b[39m\u001b[38;5;124mnonposy\u001b[39m\u001b[38;5;124m'\u001b[39m]}\n\u001b[0;32m   2013\u001b[0m \u001b[38;5;28mself\u001b[39m\u001b[38;5;241m.\u001b[39mset_yscale(\u001b[38;5;124m'\u001b[39m\u001b[38;5;124mlog\u001b[39m\u001b[38;5;124m'\u001b[39m, \u001b[38;5;241m*\u001b[39m\u001b[38;5;241m*\u001b[39md)\n\u001b[1;32m-> 2014\u001b[0m \u001b[38;5;28;01mreturn\u001b[39;00m \u001b[38;5;28mself\u001b[39m\u001b[38;5;241m.\u001b[39mplot(\n\u001b[0;32m   2015\u001b[0m     \u001b[38;5;241m*\u001b[39margs, \u001b[38;5;241m*\u001b[39m\u001b[38;5;241m*\u001b[39m{k: v \u001b[38;5;28;01mfor\u001b[39;00m k, v \u001b[38;5;129;01min\u001b[39;00m kwargs\u001b[38;5;241m.\u001b[39mitems() \u001b[38;5;28;01mif\u001b[39;00m k \u001b[38;5;129;01mnot\u001b[39;00m \u001b[38;5;129;01min\u001b[39;00m d})\n",
      "File \u001b[1;32m~\\AppData\\Local\\anaconda3\\Lib\\site-packages\\matplotlib\\axes\\_axes.py:1779\u001b[0m, in \u001b[0;36mAxes.plot\u001b[1;34m(self, scalex, scaley, data, *args, **kwargs)\u001b[0m\n\u001b[0;32m   1536\u001b[0m \u001b[38;5;250m\u001b[39m\u001b[38;5;124;03m\"\"\"\u001b[39;00m\n\u001b[0;32m   1537\u001b[0m \u001b[38;5;124;03mPlot y versus x as lines and/or markers.\u001b[39;00m\n\u001b[0;32m   1538\u001b[0m \n\u001b[1;32m   (...)\u001b[0m\n\u001b[0;32m   1776\u001b[0m \u001b[38;5;124;03m(``'green'``) or hex strings (``'#008000'``).\u001b[39;00m\n\u001b[0;32m   1777\u001b[0m \u001b[38;5;124;03m\"\"\"\u001b[39;00m\n\u001b[0;32m   1778\u001b[0m kwargs \u001b[38;5;241m=\u001b[39m cbook\u001b[38;5;241m.\u001b[39mnormalize_kwargs(kwargs, mlines\u001b[38;5;241m.\u001b[39mLine2D)\n\u001b[1;32m-> 1779\u001b[0m lines \u001b[38;5;241m=\u001b[39m [\u001b[38;5;241m*\u001b[39m\u001b[38;5;28mself\u001b[39m\u001b[38;5;241m.\u001b[39m_get_lines(\u001b[38;5;28mself\u001b[39m, \u001b[38;5;241m*\u001b[39margs, data\u001b[38;5;241m=\u001b[39mdata, \u001b[38;5;241m*\u001b[39m\u001b[38;5;241m*\u001b[39mkwargs)]\n\u001b[0;32m   1780\u001b[0m \u001b[38;5;28;01mfor\u001b[39;00m line \u001b[38;5;129;01min\u001b[39;00m lines:\n\u001b[0;32m   1781\u001b[0m     \u001b[38;5;28mself\u001b[39m\u001b[38;5;241m.\u001b[39madd_line(line)\n",
      "File \u001b[1;32m~\\AppData\\Local\\anaconda3\\Lib\\site-packages\\matplotlib\\axes\\_base.py:296\u001b[0m, in \u001b[0;36m_process_plot_var_args.__call__\u001b[1;34m(self, axes, data, *args, **kwargs)\u001b[0m\n\u001b[0;32m    294\u001b[0m     this \u001b[38;5;241m+\u001b[39m\u001b[38;5;241m=\u001b[39m args[\u001b[38;5;241m0\u001b[39m],\n\u001b[0;32m    295\u001b[0m     args \u001b[38;5;241m=\u001b[39m args[\u001b[38;5;241m1\u001b[39m:]\n\u001b[1;32m--> 296\u001b[0m \u001b[38;5;28;01myield from\u001b[39;00m \u001b[38;5;28mself\u001b[39m\u001b[38;5;241m.\u001b[39m_plot_args(\n\u001b[0;32m    297\u001b[0m     axes, this, kwargs, ambiguous_fmt_datakey\u001b[38;5;241m=\u001b[39mambiguous_fmt_datakey)\n",
      "File \u001b[1;32m~\\AppData\\Local\\anaconda3\\Lib\\site-packages\\matplotlib\\axes\\_base.py:486\u001b[0m, in \u001b[0;36m_process_plot_var_args._plot_args\u001b[1;34m(self, axes, tup, kwargs, return_kwargs, ambiguous_fmt_datakey)\u001b[0m\n\u001b[0;32m    483\u001b[0m     axes\u001b[38;5;241m.\u001b[39myaxis\u001b[38;5;241m.\u001b[39mupdate_units(y)\n\u001b[0;32m    485\u001b[0m \u001b[38;5;28;01mif\u001b[39;00m x\u001b[38;5;241m.\u001b[39mshape[\u001b[38;5;241m0\u001b[39m] \u001b[38;5;241m!=\u001b[39m y\u001b[38;5;241m.\u001b[39mshape[\u001b[38;5;241m0\u001b[39m]:\n\u001b[1;32m--> 486\u001b[0m     \u001b[38;5;28;01mraise\u001b[39;00m \u001b[38;5;167;01mValueError\u001b[39;00m(\u001b[38;5;124mf\u001b[39m\u001b[38;5;124m\"\u001b[39m\u001b[38;5;124mx and y must have same first dimension, but \u001b[39m\u001b[38;5;124m\"\u001b[39m\n\u001b[0;32m    487\u001b[0m                      \u001b[38;5;124mf\u001b[39m\u001b[38;5;124m\"\u001b[39m\u001b[38;5;124mhave shapes \u001b[39m\u001b[38;5;132;01m{\u001b[39;00mx\u001b[38;5;241m.\u001b[39mshape\u001b[38;5;132;01m}\u001b[39;00m\u001b[38;5;124m and \u001b[39m\u001b[38;5;132;01m{\u001b[39;00my\u001b[38;5;241m.\u001b[39mshape\u001b[38;5;132;01m}\u001b[39;00m\u001b[38;5;124m\"\u001b[39m)\n\u001b[0;32m    488\u001b[0m \u001b[38;5;28;01mif\u001b[39;00m x\u001b[38;5;241m.\u001b[39mndim \u001b[38;5;241m>\u001b[39m \u001b[38;5;241m2\u001b[39m \u001b[38;5;129;01mor\u001b[39;00m y\u001b[38;5;241m.\u001b[39mndim \u001b[38;5;241m>\u001b[39m \u001b[38;5;241m2\u001b[39m:\n\u001b[0;32m    489\u001b[0m     \u001b[38;5;28;01mraise\u001b[39;00m \u001b[38;5;167;01mValueError\u001b[39;00m(\u001b[38;5;124mf\u001b[39m\u001b[38;5;124m\"\u001b[39m\u001b[38;5;124mx and y can be no greater than 2D, but have \u001b[39m\u001b[38;5;124m\"\u001b[39m\n\u001b[0;32m    490\u001b[0m                      \u001b[38;5;124mf\u001b[39m\u001b[38;5;124m\"\u001b[39m\u001b[38;5;124mshapes \u001b[39m\u001b[38;5;132;01m{\u001b[39;00mx\u001b[38;5;241m.\u001b[39mshape\u001b[38;5;132;01m}\u001b[39;00m\u001b[38;5;124m and \u001b[39m\u001b[38;5;132;01m{\u001b[39;00my\u001b[38;5;241m.\u001b[39mshape\u001b[38;5;132;01m}\u001b[39;00m\u001b[38;5;124m\"\u001b[39m)\n",
      "\u001b[1;31mValueError\u001b[0m: x and y must have same first dimension, but have shapes (2,) and (1,)"
     ]
    },
    {
     "data": {
      "image/png": "[encoded data removed]",
      "text/plain": [
       "<Figure size 1000x800 with 1 Axes>"
      ]
     },
     "metadata": {},
     "output_type": "display_data"
    }
   ],
   "source": [
    "day = np.array([0, 1]) #mod\n",
    "\n",
    "plt.figure(figsize=(10, 8))\n",
    "plt.semilogy(day, c1n, label=\"c1\", color=\"#FF0000\")\n",
    "plt.errorbar(day, c1n, yerr=sem_c1_n, fmt='o', capsize=5, color=\"#FF0000\", alpha=0.4)\n",
    "plt.semilogy(day, c2n, label=\"c2, d7=overgrown\", color=\"#AA0000\")\n",
    "plt.errorbar(day, c2n, yerr=sem_c2_n, fmt='o', capsize=5, color=\"#AA0000\", alpha=0.4)\n",
    "plt.semilogy(day, c3n, label=\"c3\", color=\"#660000\")\n",
    "plt.errorbar(day, c3n, yerr=sem_c3_n, fmt='o', capsize=5, color=\"#660000\", alpha=0.4)\n",
    "\n",
    "plt.semilogy(day, g4n, label=\"g4\", color=\"#00FF00\")\n",
    "plt.errorbar(day, g4n, yerr=sem_g4_n, fmt='o', capsize=5, color=\"#00FF00\", alpha=0.4)\n",
    "plt.semilogy(day, g5n, label=\"g5\", color=\"#00AA00\")\n",
    "plt.errorbar(day, g5n, yerr=sem_g5_n, fmt='o', capsize=5, color=\"#00AA00\", alpha=0.4)\n",
    "plt.semilogy(day, g6n, label=\"g6\", color=\"#006600\")\n",
    "plt.errorbar(day, g6n, yerr=sem_g6_n, fmt='o', capsize=5, color=\"#006600\", alpha=0.4)\n",
    "\n",
    "plt.semilogy(day, t7n, label=\"t7\", color=\"#0000FF\")\n",
    "plt.errorbar(day, t7n, yerr=sem_t7_n, fmt='o', capsize=5, color=\"#0000FF\", alpha=0.4)\n",
    "plt.semilogy(day, t8n, label=\"t8\", color=\"#0000AA\")\n",
    "plt.errorbar(day, t8n, yerr=sem_t8_n, fmt='o', capsize=5, color=\"#0000AA\", alpha=0.4)\n",
    "plt.semilogy(day, t9n, label=\"t9\", color=\"#000066\")\n",
    "plt.errorbar(day, t9n, yerr=sem_t9_n, fmt='o', capsize=5, color=\"#000066\", alpha=0.4)\n",
    "\n",
    "plt.semilogy(day, b10n, label=\"b10\", color=\"#FF00FF\")\n",
    "plt.errorbar(day, b10n, yerr=sem_b10_n, fmt='o', capsize=5, color=\"#FF00FF\", alpha=0.4)\n",
    "plt.semilogy(day, b11n, label=\"b11\", color=\"#AA00AA\")\n",
    "plt.errorbar(day, b11n, yerr=sem_b11_n, fmt='o', capsize=5, color=\"#AA00AA\", alpha=0.4)\n",
    "plt.semilogy(day, b12n, label=\"b12\", color=\"#660066\")\n",
    "plt.errorbar(day, b12n, yerr=sem_b12_n, fmt='o', capsize=5, color=\"#660066\", alpha=0.4)\n",
    "\n",
    "\n",
    "plt.xlabel(\"Day\")\n",
    "plt.ylabel(\"cells.ml^-1 (normalized)\")\n",
    "plt.title(\"what is happening, isolate\")\n",
    "plt.legend(loc='upper left')\n",
    "plt.show()"
   ]
  },
  {
   "cell_type": "code",
   "execution_count": 5,
   "id": "767f11dc-21c3-4bd1-be56-f9c3d4164d04",
   "metadata": {
    "tags": []
   },
   "outputs": [
    {
     "ename": "ValueError",
     "evalue": "x and y must have same first dimension, but have shapes (2,) and (1,)",
     "output_type": "error",
     "traceback": [
      "\u001b[1;31m---------------------------------------------------------------------------\u001b[0m",
      "\u001b[1;31mValueError\u001b[0m                                Traceback (most recent call last)",
      "Cell \u001b[1;32mIn[5], line 3\u001b[0m\n\u001b[0;32m      1\u001b[0m fig, axs \u001b[38;5;241m=\u001b[39m plt\u001b[38;5;241m.\u001b[39msubplots(\u001b[38;5;241m2\u001b[39m, \u001b[38;5;241m2\u001b[39m, figsize\u001b[38;5;241m=\u001b[39m(\u001b[38;5;241m16\u001b[39m, \u001b[38;5;241m12\u001b[39m))\n\u001b[1;32m----> 3\u001b[0m axs[\u001b[38;5;241m0\u001b[39m, \u001b[38;5;241m0\u001b[39m]\u001b[38;5;241m.\u001b[39mplot(day, c1, label\u001b[38;5;241m=\u001b[39m\u001b[38;5;124m\"\u001b[39m\u001b[38;5;124mc1\u001b[39m\u001b[38;5;124m\"\u001b[39m, color\u001b[38;5;241m=\u001b[39m\u001b[38;5;124m\"\u001b[39m\u001b[38;5;124m#FF0000\u001b[39m\u001b[38;5;124m\"\u001b[39m)\n\u001b[0;32m      4\u001b[0m axs[\u001b[38;5;241m0\u001b[39m, \u001b[38;5;241m0\u001b[39m]\u001b[38;5;241m.\u001b[39mplot(day, c2, label\u001b[38;5;241m=\u001b[39m\u001b[38;5;124m\"\u001b[39m\u001b[38;5;124mc2\u001b[39m\u001b[38;5;124m\"\u001b[39m, color\u001b[38;5;241m=\u001b[39m\u001b[38;5;124m\"\u001b[39m\u001b[38;5;124m#AA0000\u001b[39m\u001b[38;5;124m\"\u001b[39m)\n\u001b[0;32m      5\u001b[0m axs[\u001b[38;5;241m0\u001b[39m, \u001b[38;5;241m0\u001b[39m]\u001b[38;5;241m.\u001b[39mplot(day, c3, label\u001b[38;5;241m=\u001b[39m\u001b[38;5;124m\"\u001b[39m\u001b[38;5;124mc3\u001b[39m\u001b[38;5;124m\"\u001b[39m, color\u001b[38;5;241m=\u001b[39m\u001b[38;5;124m\"\u001b[39m\u001b[38;5;124m#660000\u001b[39m\u001b[38;5;124m\"\u001b[39m)\n",
      "File \u001b[1;32m~\\AppData\\Local\\anaconda3\\Lib\\site-packages\\matplotlib\\axes\\_axes.py:1779\u001b[0m, in \u001b[0;36mAxes.plot\u001b[1;34m(self, scalex, scaley, data, *args, **kwargs)\u001b[0m\n\u001b[0;32m   1536\u001b[0m \u001b[38;5;250m\u001b[39m\u001b[38;5;124;03m\"\"\"\u001b[39;00m\n\u001b[0;32m   1537\u001b[0m \u001b[38;5;124;03mPlot y versus x as lines and/or markers.\u001b[39;00m\n\u001b[0;32m   1538\u001b[0m \n\u001b[1;32m   (...)\u001b[0m\n\u001b[0;32m   1776\u001b[0m \u001b[38;5;124;03m(``'green'``) or hex strings (``'#008000'``).\u001b[39;00m\n\u001b[0;32m   1777\u001b[0m \u001b[38;5;124;03m\"\"\"\u001b[39;00m\n\u001b[0;32m   1778\u001b[0m kwargs \u001b[38;5;241m=\u001b[39m cbook\u001b[38;5;241m.\u001b[39mnormalize_kwargs(kwargs, mlines\u001b[38;5;241m.\u001b[39mLine2D)\n\u001b[1;32m-> 1779\u001b[0m lines \u001b[38;5;241m=\u001b[39m [\u001b[38;5;241m*\u001b[39m\u001b[38;5;28mself\u001b[39m\u001b[38;5;241m.\u001b[39m_get_lines(\u001b[38;5;28mself\u001b[39m, \u001b[38;5;241m*\u001b[39margs, data\u001b[38;5;241m=\u001b[39mdata, \u001b[38;5;241m*\u001b[39m\u001b[38;5;241m*\u001b[39mkwargs)]\n\u001b[0;32m   1780\u001b[0m \u001b[38;5;28;01mfor\u001b[39;00m line \u001b[38;5;129;01min\u001b[39;00m lines:\n\u001b[0;32m   1781\u001b[0m     \u001b[38;5;28mself\u001b[39m\u001b[38;5;241m.\u001b[39madd_line(line)\n",
      "File \u001b[1;32m~\\AppData\\Local\\anaconda3\\Lib\\site-packages\\matplotlib\\axes\\_base.py:296\u001b[0m, in \u001b[0;36m_process_plot_var_args.__call__\u001b[1;34m(self, axes, data, *args, **kwargs)\u001b[0m\n\u001b[0;32m    294\u001b[0m     this \u001b[38;5;241m+\u001b[39m\u001b[38;5;241m=\u001b[39m args[\u001b[38;5;241m0\u001b[39m],\n\u001b[0;32m    295\u001b[0m     args \u001b[38;5;241m=\u001b[39m args[\u001b[38;5;241m1\u001b[39m:]\n\u001b[1;32m--> 296\u001b[0m \u001b[38;5;28;01myield from\u001b[39;00m \u001b[38;5;28mself\u001b[39m\u001b[38;5;241m.\u001b[39m_plot_args(\n\u001b[0;32m    297\u001b[0m     axes, this, kwargs, ambiguous_fmt_datakey\u001b[38;5;241m=\u001b[39mambiguous_fmt_datakey)\n",
      "File \u001b[1;32m~\\AppData\\Local\\anaconda3\\Lib\\site-packages\\matplotlib\\axes\\_base.py:486\u001b[0m, in \u001b[0;36m_process_plot_var_args._plot_args\u001b[1;34m(self, axes, tup, kwargs, return_kwargs, ambiguous_fmt_datakey)\u001b[0m\n\u001b[0;32m    483\u001b[0m     axes\u001b[38;5;241m.\u001b[39myaxis\u001b[38;5;241m.\u001b[39mupdate_units(y)\n\u001b[0;32m    485\u001b[0m \u001b[38;5;28;01mif\u001b[39;00m x\u001b[38;5;241m.\u001b[39mshape[\u001b[38;5;241m0\u001b[39m] \u001b[38;5;241m!=\u001b[39m y\u001b[38;5;241m.\u001b[39mshape[\u001b[38;5;241m0\u001b[39m]:\n\u001b[1;32m--> 486\u001b[0m     \u001b[38;5;28;01mraise\u001b[39;00m \u001b[38;5;167;01mValueError\u001b[39;00m(\u001b[38;5;124mf\u001b[39m\u001b[38;5;124m\"\u001b[39m\u001b[38;5;124mx and y must have same first dimension, but \u001b[39m\u001b[38;5;124m\"\u001b[39m\n\u001b[0;32m    487\u001b[0m                      \u001b[38;5;124mf\u001b[39m\u001b[38;5;124m\"\u001b[39m\u001b[38;5;124mhave shapes \u001b[39m\u001b[38;5;132;01m{\u001b[39;00mx\u001b[38;5;241m.\u001b[39mshape\u001b[38;5;132;01m}\u001b[39;00m\u001b[38;5;124m and \u001b[39m\u001b[38;5;132;01m{\u001b[39;00my\u001b[38;5;241m.\u001b[39mshape\u001b[38;5;132;01m}\u001b[39;00m\u001b[38;5;124m\"\u001b[39m)\n\u001b[0;32m    488\u001b[0m \u001b[38;5;28;01mif\u001b[39;00m x\u001b[38;5;241m.\u001b[39mndim \u001b[38;5;241m>\u001b[39m \u001b[38;5;241m2\u001b[39m \u001b[38;5;129;01mor\u001b[39;00m y\u001b[38;5;241m.\u001b[39mndim \u001b[38;5;241m>\u001b[39m \u001b[38;5;241m2\u001b[39m:\n\u001b[0;32m    489\u001b[0m     \u001b[38;5;28;01mraise\u001b[39;00m \u001b[38;5;167;01mValueError\u001b[39;00m(\u001b[38;5;124mf\u001b[39m\u001b[38;5;124m\"\u001b[39m\u001b[38;5;124mx and y can be no greater than 2D, but have \u001b[39m\u001b[38;5;124m\"\u001b[39m\n\u001b[0;32m    490\u001b[0m                      \u001b[38;5;124mf\u001b[39m\u001b[38;5;124m\"\u001b[39m\u001b[38;5;124mshapes \u001b[39m\u001b[38;5;132;01m{\u001b[39;00mx\u001b[38;5;241m.\u001b[39mshape\u001b[38;5;132;01m}\u001b[39;00m\u001b[38;5;124m and \u001b[39m\u001b[38;5;132;01m{\u001b[39;00my\u001b[38;5;241m.\u001b[39mshape\u001b[38;5;132;01m}\u001b[39;00m\u001b[38;5;124m\"\u001b[39m)\n",
      "\u001b[1;31mValueError\u001b[0m: x and y must have same first dimension, but have shapes (2,) and (1,)"
     ]
    },
    {
     "data": {
      "image/png": "[encoded data removed]",
      "text/plain": [
       "<Figure size 1600x1200 with 4 Axes>"
      ]
     },
     "metadata": {},
     "output_type": "display_data"
    }
   ],
   "source": [
    "fig, axs = plt.subplots(2, 2, figsize=(16, 12))\n",
    "\n",
    "axs[0, 0].plot(day, c1, label=\"c1\", color=\"#FF0000\")\n",
    "axs[0, 0].plot(day, c2, label=\"c2\", color=\"#AA0000\")\n",
    "axs[0, 0].plot(day, c3, label=\"c3\", color=\"#660000\")\n",
    "axs[0, 0].set_title(\"control\")\n",
    "axs[0, 0].errorbar(day, c1, yerr=sem_c1, fmt='o', capsize=5, color=\"#FF0000\", alpha=0.4)\n",
    "axs[0, 0].errorbar(day, c2, yerr=sem_c1, fmt='o', capsize=5, color=\"#AA0000\", alpha=0.4)\n",
    "axs[0, 0].errorbar(day, c3, yerr=sem_c3, fmt='o', capsize=5, color=\"#660000\", alpha=0.4)\n",
    "\n",
    "axs[1, 0].plot(day, g4, label=\"g4\", color=\"#00FF00\")\n",
    "axs[1, 0].plot(day, g5, label=\"g5\", color=\"#00AA00\")\n",
    "axs[1, 0].plot(day, g6, label=\"g6\", color=\"#006600\")\n",
    "axs[1, 0].set_title(\"glucose\")\n",
    "axs[1, 0].errorbar(day, g4, yerr=sem_g4, fmt='o', capsize=5, color=\"#00FF00\", alpha=0.4)\n",
    "axs[1, 0].errorbar(day, g5, yerr=sem_g5, fmt='o', capsize=5, color=\"#00AA00\", alpha=0.4)\n",
    "axs[1, 0].errorbar(day, g6, yerr=sem_g6, fmt='o', capsize=5, color=\"#006600\", alpha=0.4)\n",
    "\n",
    "axs[0, 1].plot(day, t7, label=\"t7\", color=\"#0000FF\")\n",
    "axs[0, 1].plot(day, t8, label=\"t8\", color=\"#0000AA\")\n",
    "axs[0, 1].plot(day, t9, label=\"t9\", color=\"#000066\")\n",
    "axs[0, 1].set_title(\"tholins\")\n",
    "axs[0, 1].errorbar(day, t7, yerr=sem_t7, fmt='o', capsize=5, color=\"#0000FF\", alpha=0.4)\n",
    "axs[0, 1].errorbar(day, t8, yerr=sem_t8, fmt='o', capsize=5, color=\"#0000AA\", alpha=0.4)\n",
    "axs[0, 1].errorbar(day, t9, yerr=sem_t9, fmt='o', capsize=5, color=\"#000066\", alpha=0.4)\n",
    "\n",
    "axs[1, 1].plot(day_b, b10, label=\"b10\", color=\"#FF00FF\")\n",
    "axs[1, 1].plot(day_b, b11, label=\"b11\", color=\"#AA00AA\")\n",
    "axs[1, 1].plot(day_b, b12, label=\"b12\", color=\"#660066\")\n",
    "axs[1, 1].set_title(\"baked moon\")\n",
    "axs[1, 1].errorbar(day_b, b10, yerr=sem_b10, fmt='o', capsize=5, color=\"#FF00FF\", alpha=0.4)\n",
    "axs[1, 1].errorbar(day_b, b11, yerr=sem_b11, fmt='o', capsize=5, color=\"#AA00AA\", alpha=0.4)\n",
    "axs[1, 1].errorbar(day_b, b12, yerr=sem_b12, fmt='o', capsize=5, color=\"#660066\", alpha=0.4)\n",
    "\n"
   ]
  },
  {
   "cell_type": "code",
   "execution_count": 6,
   "id": "bc1c0635-2553-4ae6-ab24-ac4bf9ef332d",
   "metadata": {
    "tags": []
   },
   "outputs": [
    {
     "ename": "NameError",
     "evalue": "name 'b10' is not defined",
     "output_type": "error",
     "traceback": [
      "\u001b[1;31m---------------------------------------------------------------------------\u001b[0m",
      "\u001b[1;31mNameError\u001b[0m                                 Traceback (most recent call last)",
      "Cell \u001b[1;32mIn[6], line 18\u001b[0m\n\u001b[0;32m     15\u001b[0m t_mean \u001b[38;5;241m=\u001b[39m mean_of_arrays(t7,t8,t9)\n\u001b[0;32m     16\u001b[0m t_mean_n \u001b[38;5;241m=\u001b[39m t_mean\u001b[38;5;241m/\u001b[39mcgtbd0_mean\n\u001b[1;32m---> 18\u001b[0m b_mean \u001b[38;5;241m=\u001b[39m mean_of_arrays(b10,b11,b12)\n\u001b[0;32m     19\u001b[0m b_mean_n \u001b[38;5;241m=\u001b[39m b_mean\u001b[38;5;241m/\u001b[39mcgtbd0_mean\n\u001b[0;32m     21\u001b[0m \u001b[38;5;28mprint\u001b[39m(c_mean, g_mean, t_mean, b_mean)\n",
      "\u001b[1;31mNameError\u001b[0m: name 'b10' is not defined"
     ]
    }
   ],
   "source": [
    "def mean_of_arrays (a,b,c):\n",
    "    mean_arr = np.array([(a[i]+b[i]+c[i])/3 for i in range (len(a))])\n",
    "    return mean_arr\n",
    "\n",
    "def mean_of_arrays_adj (a,b):\n",
    "    mean_arr_adj = np.array([(a[i]+b[i])/2 for i in range (len(a))])\n",
    "    return mean_arr_adj\n",
    "\n",
    "c_mean = mean_of_arrays(c1,c2,c3)\n",
    "c_mean_n = c_mean/cgtbd0_mean\n",
    "\n",
    "g_mean = mean_of_arrays(g4,g5,g6)\n",
    "g_mean_n = g_mean/cgtbd0_mean\n",
    "\n",
    "t_mean = mean_of_arrays(t7,t8,t9)\n",
    "t_mean_n = t_mean/cgtbd0_mean\n",
    "\n",
    "b_mean = mean_of_arrays(b10,b11,b12)\n",
    "b_mean_n = b_mean/cgtbd0_mean\n",
    "\n",
    "print(c_mean, g_mean, t_mean, b_mean)\n"
   ]
  },
  {
   "cell_type": "code",
   "execution_count": 7,
   "id": "9f5952dd-592a-4341-8fa5-9a4e7eb723c5",
   "metadata": {
    "tags": []
   },
   "outputs": [
    {
     "ename": "NameError",
     "evalue": "name 'b10d1' is not defined",
     "output_type": "error",
     "traceback": [
      "\u001b[1;31m---------------------------------------------------------------------------\u001b[0m",
      "\u001b[1;31mNameError\u001b[0m                                 Traceback (most recent call last)",
      "Cell \u001b[1;32mIn[7], line 11\u001b[0m\n\u001b[0;32m      8\u001b[0m td1_comb \u001b[38;5;241m=\u001b[39m np\u001b[38;5;241m.\u001b[39mconcatenate((t7d1, t8d1, t9d1))\n\u001b[0;32m      9\u001b[0m \u001b[38;5;66;03m#mod\u001b[39;00m\n\u001b[1;32m---> 11\u001b[0m bd1_comb \u001b[38;5;241m=\u001b[39m np\u001b[38;5;241m.\u001b[39mconcatenate((b10d1, b11d1, b12d1))\n\u001b[0;32m     12\u001b[0m \u001b[38;5;66;03m#mod\u001b[39;00m\n\u001b[0;32m     14\u001b[0m \u001b[38;5;28mprint\u001b[39m(\u001b[38;5;124m'\u001b[39m\u001b[38;5;124m???\u001b[39m\u001b[38;5;124m'\u001b[39m, np\u001b[38;5;241m.\u001b[39mshape(cd4_comb), cd4_comb)\n",
      "\u001b[1;31mNameError\u001b[0m: name 'b10d1' is not defined"
     ]
    }
   ],
   "source": [
    "cd1_comb = np.concatenate((c1d1, c2d1, c3d1))\n",
    "\n",
    "#mod\n",
    "\n",
    "gd1_comb = np.concatenate((g4d1, g5d1, g6d1))\n",
    "#mod\n",
    "\n",
    "td1_comb = np.concatenate((t7d1, t8d1, t9d1))\n",
    "#mod\n",
    "\n",
    "bd1_comb = np.concatenate((b10d1, b11d1, b12d1))\n",
    "#mod\n",
    "\n",
    "print('???', np.shape(cd4_comb), cd4_comb)\n",
    "\n",
    "stdev_c = np.array([day0_stdev, np.std(cd1_comb)])#mod\n",
    "stdev_g = np.array([day0_stdev, np.std(gd1_comb)])#mod\n",
    "stdev_t = np.array([day0_stdev, np.std(td1_comb)])#mod\n",
    "stdev_b = np.array([day0_stdev, np.std(bd1_comb)])#mod\n",
    "\n",
    "sem_c = stdev_c/(12**0.5)\n",
    "sem_c[0] = day_0_sem\n",
    "sem_g = stdev_g/(12**0.5)   \n",
    "sem_g[0] = day_0_sem\n",
    "sem_t = stdev_t/(12**0.5)\n",
    "sem_t[0] = day_0_sem\n",
    "sem_b = stdev_b/(12**0.5)\n",
    "sem_b[0] = day_0_sem\n",
    "\n",
    "sem_c_n = sem_c/cgtbd0_mean\n",
    "sem_g_n = sem_g/cgtbd0_mean\n",
    "sem_t_n = sem_t/cgtbd0_mean\n",
    "sem_b_n = sem_b/cgtbd0_mean\n"
   ]
  },
  {
   "cell_type": "code",
   "execution_count": 8,
   "id": "6d35b48b-6941-4986-ad84-a07a9803b707",
   "metadata": {
    "tags": []
   },
   "outputs": [
    {
     "ename": "ValueError",
     "evalue": "x and y must have same first dimension, but have shapes (2,) and (1,)",
     "output_type": "error",
     "traceback": [
      "\u001b[1;31m---------------------------------------------------------------------------\u001b[0m",
      "\u001b[1;31mValueError\u001b[0m                                Traceback (most recent call last)",
      "Cell \u001b[1;32mIn[8], line 3\u001b[0m\n\u001b[0;32m      1\u001b[0m plt\u001b[38;5;241m.\u001b[39mfigure(figsize\u001b[38;5;241m=\u001b[39m(\u001b[38;5;241m10\u001b[39m, \u001b[38;5;241m8\u001b[39m))\n\u001b[1;32m----> 3\u001b[0m plt\u001b[38;5;241m.\u001b[39msemilogy(day, c_mean_n, label\u001b[38;5;241m=\u001b[39m\u001b[38;5;124m\"\u001b[39m\u001b[38;5;124mc_mean\u001b[39m\u001b[38;5;124m\"\u001b[39m, color\u001b[38;5;241m=\u001b[39m\u001b[38;5;124m\"\u001b[39m\u001b[38;5;124m#AA0000\u001b[39m\u001b[38;5;124m\"\u001b[39m)\n\u001b[0;32m      4\u001b[0m plt\u001b[38;5;241m.\u001b[39merrorbar(day, c_mean_n, yerr\u001b[38;5;241m=\u001b[39msem_c_n, fmt\u001b[38;5;241m=\u001b[39m\u001b[38;5;124m'\u001b[39m\u001b[38;5;124mo\u001b[39m\u001b[38;5;124m'\u001b[39m, capsize\u001b[38;5;241m=\u001b[39m\u001b[38;5;241m5\u001b[39m, color\u001b[38;5;241m=\u001b[39m\u001b[38;5;124m\"\u001b[39m\u001b[38;5;124m#FF0000\u001b[39m\u001b[38;5;124m\"\u001b[39m, alpha\u001b[38;5;241m=\u001b[39m\u001b[38;5;241m0.4\u001b[39m)\n\u001b[0;32m      6\u001b[0m plt\u001b[38;5;241m.\u001b[39msemilogy(day, g_mean_n, label\u001b[38;5;241m=\u001b[39m\u001b[38;5;124m\"\u001b[39m\u001b[38;5;124mg_mean\u001b[39m\u001b[38;5;124m\"\u001b[39m, color\u001b[38;5;241m=\u001b[39m\u001b[38;5;124m\"\u001b[39m\u001b[38;5;124m#00AA00\u001b[39m\u001b[38;5;124m\"\u001b[39m)\n",
      "File \u001b[1;32m~\\AppData\\Local\\anaconda3\\Lib\\site-packages\\matplotlib\\pyplot.py:3933\u001b[0m, in \u001b[0;36msemilogy\u001b[1;34m(*args, **kwargs)\u001b[0m\n\u001b[0;32m   3931\u001b[0m \u001b[38;5;129m@_copy_docstring_and_deprecators\u001b[39m(Axes\u001b[38;5;241m.\u001b[39msemilogy)\n\u001b[0;32m   3932\u001b[0m \u001b[38;5;28;01mdef\u001b[39;00m \u001b[38;5;21msemilogy\u001b[39m(\u001b[38;5;241m*\u001b[39margs, \u001b[38;5;241m*\u001b[39m\u001b[38;5;241m*\u001b[39mkwargs) \u001b[38;5;241m-\u001b[39m\u001b[38;5;241m>\u001b[39m \u001b[38;5;28mlist\u001b[39m[Line2D]:\n\u001b[1;32m-> 3933\u001b[0m     \u001b[38;5;28;01mreturn\u001b[39;00m gca()\u001b[38;5;241m.\u001b[39msemilogy(\u001b[38;5;241m*\u001b[39margs, \u001b[38;5;241m*\u001b[39m\u001b[38;5;241m*\u001b[39mkwargs)\n",
      "File \u001b[1;32m~\\AppData\\Local\\anaconda3\\Lib\\site-packages\\matplotlib\\axes\\_axes.py:2014\u001b[0m, in \u001b[0;36mAxes.semilogy\u001b[1;34m(self, *args, **kwargs)\u001b[0m\n\u001b[0;32m   2010\u001b[0m d \u001b[38;5;241m=\u001b[39m {k: v \u001b[38;5;28;01mfor\u001b[39;00m k, v \u001b[38;5;129;01min\u001b[39;00m kwargs\u001b[38;5;241m.\u001b[39mitems()\n\u001b[0;32m   2011\u001b[0m      \u001b[38;5;28;01mif\u001b[39;00m k \u001b[38;5;129;01min\u001b[39;00m [\u001b[38;5;124m'\u001b[39m\u001b[38;5;124mbase\u001b[39m\u001b[38;5;124m'\u001b[39m, \u001b[38;5;124m'\u001b[39m\u001b[38;5;124msubs\u001b[39m\u001b[38;5;124m'\u001b[39m, \u001b[38;5;124m'\u001b[39m\u001b[38;5;124mnonpositive\u001b[39m\u001b[38;5;124m'\u001b[39m,\n\u001b[0;32m   2012\u001b[0m               \u001b[38;5;124m'\u001b[39m\u001b[38;5;124mbasey\u001b[39m\u001b[38;5;124m'\u001b[39m, \u001b[38;5;124m'\u001b[39m\u001b[38;5;124msubsy\u001b[39m\u001b[38;5;124m'\u001b[39m, \u001b[38;5;124m'\u001b[39m\u001b[38;5;124mnonposy\u001b[39m\u001b[38;5;124m'\u001b[39m]}\n\u001b[0;32m   2013\u001b[0m \u001b[38;5;28mself\u001b[39m\u001b[38;5;241m.\u001b[39mset_yscale(\u001b[38;5;124m'\u001b[39m\u001b[38;5;124mlog\u001b[39m\u001b[38;5;124m'\u001b[39m, \u001b[38;5;241m*\u001b[39m\u001b[38;5;241m*\u001b[39md)\n\u001b[1;32m-> 2014\u001b[0m \u001b[38;5;28;01mreturn\u001b[39;00m \u001b[38;5;28mself\u001b[39m\u001b[38;5;241m.\u001b[39mplot(\n\u001b[0;32m   2015\u001b[0m     \u001b[38;5;241m*\u001b[39margs, \u001b[38;5;241m*\u001b[39m\u001b[38;5;241m*\u001b[39m{k: v \u001b[38;5;28;01mfor\u001b[39;00m k, v \u001b[38;5;129;01min\u001b[39;00m kwargs\u001b[38;5;241m.\u001b[39mitems() \u001b[38;5;28;01mif\u001b[39;00m k \u001b[38;5;129;01mnot\u001b[39;00m \u001b[38;5;129;01min\u001b[39;00m d})\n",
      "File \u001b[1;32m~\\AppData\\Local\\anaconda3\\Lib\\site-packages\\matplotlib\\axes\\_axes.py:1779\u001b[0m, in \u001b[0;36mAxes.plot\u001b[1;34m(self, scalex, scaley, data, *args, **kwargs)\u001b[0m\n\u001b[0;32m   1536\u001b[0m \u001b[38;5;250m\u001b[39m\u001b[38;5;124;03m\"\"\"\u001b[39;00m\n\u001b[0;32m   1537\u001b[0m \u001b[38;5;124;03mPlot y versus x as lines and/or markers.\u001b[39;00m\n\u001b[0;32m   1538\u001b[0m \n\u001b[1;32m   (...)\u001b[0m\n\u001b[0;32m   1776\u001b[0m \u001b[38;5;124;03m(``'green'``) or hex strings (``'#008000'``).\u001b[39;00m\n\u001b[0;32m   1777\u001b[0m \u001b[38;5;124;03m\"\"\"\u001b[39;00m\n\u001b[0;32m   1778\u001b[0m kwargs \u001b[38;5;241m=\u001b[39m cbook\u001b[38;5;241m.\u001b[39mnormalize_kwargs(kwargs, mlines\u001b[38;5;241m.\u001b[39mLine2D)\n\u001b[1;32m-> 1779\u001b[0m lines \u001b[38;5;241m=\u001b[39m [\u001b[38;5;241m*\u001b[39m\u001b[38;5;28mself\u001b[39m\u001b[38;5;241m.\u001b[39m_get_lines(\u001b[38;5;28mself\u001b[39m, \u001b[38;5;241m*\u001b[39margs, data\u001b[38;5;241m=\u001b[39mdata, \u001b[38;5;241m*\u001b[39m\u001b[38;5;241m*\u001b[39mkwargs)]\n\u001b[0;32m   1780\u001b[0m \u001b[38;5;28;01mfor\u001b[39;00m line \u001b[38;5;129;01min\u001b[39;00m lines:\n\u001b[0;32m   1781\u001b[0m     \u001b[38;5;28mself\u001b[39m\u001b[38;5;241m.\u001b[39madd_line(line)\n",
      "File \u001b[1;32m~\\AppData\\Local\\anaconda3\\Lib\\site-packages\\matplotlib\\axes\\_base.py:296\u001b[0m, in \u001b[0;36m_process_plot_var_args.__call__\u001b[1;34m(self, axes, data, *args, **kwargs)\u001b[0m\n\u001b[0;32m    294\u001b[0m     this \u001b[38;5;241m+\u001b[39m\u001b[38;5;241m=\u001b[39m args[\u001b[38;5;241m0\u001b[39m],\n\u001b[0;32m    295\u001b[0m     args \u001b[38;5;241m=\u001b[39m args[\u001b[38;5;241m1\u001b[39m:]\n\u001b[1;32m--> 296\u001b[0m \u001b[38;5;28;01myield from\u001b[39;00m \u001b[38;5;28mself\u001b[39m\u001b[38;5;241m.\u001b[39m_plot_args(\n\u001b[0;32m    297\u001b[0m     axes, this, kwargs, ambiguous_fmt_datakey\u001b[38;5;241m=\u001b[39mambiguous_fmt_datakey)\n",
      "File \u001b[1;32m~\\AppData\\Local\\anaconda3\\Lib\\site-packages\\matplotlib\\axes\\_base.py:486\u001b[0m, in \u001b[0;36m_process_plot_var_args._plot_args\u001b[1;34m(self, axes, tup, kwargs, return_kwargs, ambiguous_fmt_datakey)\u001b[0m\n\u001b[0;32m    483\u001b[0m     axes\u001b[38;5;241m.\u001b[39myaxis\u001b[38;5;241m.\u001b[39mupdate_units(y)\n\u001b[0;32m    485\u001b[0m \u001b[38;5;28;01mif\u001b[39;00m x\u001b[38;5;241m.\u001b[39mshape[\u001b[38;5;241m0\u001b[39m] \u001b[38;5;241m!=\u001b[39m y\u001b[38;5;241m.\u001b[39mshape[\u001b[38;5;241m0\u001b[39m]:\n\u001b[1;32m--> 486\u001b[0m     \u001b[38;5;28;01mraise\u001b[39;00m \u001b[38;5;167;01mValueError\u001b[39;00m(\u001b[38;5;124mf\u001b[39m\u001b[38;5;124m\"\u001b[39m\u001b[38;5;124mx and y must have same first dimension, but \u001b[39m\u001b[38;5;124m\"\u001b[39m\n\u001b[0;32m    487\u001b[0m                      \u001b[38;5;124mf\u001b[39m\u001b[38;5;124m\"\u001b[39m\u001b[38;5;124mhave shapes \u001b[39m\u001b[38;5;132;01m{\u001b[39;00mx\u001b[38;5;241m.\u001b[39mshape\u001b[38;5;132;01m}\u001b[39;00m\u001b[38;5;124m and \u001b[39m\u001b[38;5;132;01m{\u001b[39;00my\u001b[38;5;241m.\u001b[39mshape\u001b[38;5;132;01m}\u001b[39;00m\u001b[38;5;124m\"\u001b[39m)\n\u001b[0;32m    488\u001b[0m \u001b[38;5;28;01mif\u001b[39;00m x\u001b[38;5;241m.\u001b[39mndim \u001b[38;5;241m>\u001b[39m \u001b[38;5;241m2\u001b[39m \u001b[38;5;129;01mor\u001b[39;00m y\u001b[38;5;241m.\u001b[39mndim \u001b[38;5;241m>\u001b[39m \u001b[38;5;241m2\u001b[39m:\n\u001b[0;32m    489\u001b[0m     \u001b[38;5;28;01mraise\u001b[39;00m \u001b[38;5;167;01mValueError\u001b[39;00m(\u001b[38;5;124mf\u001b[39m\u001b[38;5;124m\"\u001b[39m\u001b[38;5;124mx and y can be no greater than 2D, but have \u001b[39m\u001b[38;5;124m\"\u001b[39m\n\u001b[0;32m    490\u001b[0m                      \u001b[38;5;124mf\u001b[39m\u001b[38;5;124m\"\u001b[39m\u001b[38;5;124mshapes \u001b[39m\u001b[38;5;132;01m{\u001b[39;00mx\u001b[38;5;241m.\u001b[39mshape\u001b[38;5;132;01m}\u001b[39;00m\u001b[38;5;124m and \u001b[39m\u001b[38;5;132;01m{\u001b[39;00my\u001b[38;5;241m.\u001b[39mshape\u001b[38;5;132;01m}\u001b[39;00m\u001b[38;5;124m\"\u001b[39m)\n",
      "\u001b[1;31mValueError\u001b[0m: x and y must have same first dimension, but have shapes (2,) and (1,)"
     ]
    },
    {
     "data": {
      "image/png": "[encoded data removed]",
      "text/plain": [
       "<Figure size 1000x800 with 1 Axes>"
      ]
     },
     "metadata": {},
     "output_type": "display_data"
    }
   ],
   "source": [
    "\n",
    "plt.figure(figsize=(10, 8))\n",
    "\n",
    "plt.semilogy(day, c_mean_n, label=\"c_mean\", color=\"#AA0000\")\n",
    "plt.errorbar(day, c_mean_n, yerr=sem_c_n, fmt='o', capsize=5, color=\"#FF0000\", alpha=0.4)\n",
    "\n",
    "plt.semilogy(day, g_mean_n, label=\"g_mean\", color=\"#00AA00\")\n",
    "plt.errorbar(day, g_mean_n, yerr=sem_g_n, fmt='o', capsize=5, color=\"#00FF00\", alpha=0.4)\n",
    "\n",
    "plt.semilogy(day, t_mean_n, label=\"t_mean\", color=\"#0000AA\")\n",
    "plt.errorbar(day, t_mean_n, yerr=sem_t_n, fmt='o', capsize=5, color=\"#0000FF\", alpha=0.4)\n",
    "\n",
    "plt.semilogy(day, b_mean_n, label=\"b_mean\", color=\"#AA00AA\")\n",
    "plt.errorbar(day, b_mean_n, yerr=sem_b_n, fmt='o', capsize=5, color=\"#FF00FF\", alpha=0.4)\n",
    "\n",
    "\n",
    "plt.xlabel(\"Day\")\n",
    "plt.ylabel(\"cells.ml^-1 (normalized)\")\n",
    "plt.title(\"mean of what is happening, isolate,  error bars = normalized SEM\")\n",
    "plt.legend(loc='upper left')\n",
    "plt.show()\n"
   ]
  },
  {
   "cell_type": "code",
   "execution_count": 9,
   "id": "93877887-ea55-4204-8a98-680d165501b4",
   "metadata": {
    "tags": []
   },
   "outputs": [
    {
     "ename": "NameError",
     "evalue": "name 'c_mean_n_adj' is not defined",
     "output_type": "error",
     "traceback": [
      "\u001b[1;31m---------------------------------------------------------------------------\u001b[0m",
      "\u001b[1;31mNameError\u001b[0m                                 Traceback (most recent call last)",
      "Cell \u001b[1;32mIn[9], line 3\u001b[0m\n\u001b[0;32m      1\u001b[0m plt\u001b[38;5;241m.\u001b[39mfigure(figsize\u001b[38;5;241m=\u001b[39m(\u001b[38;5;241m10\u001b[39m, \u001b[38;5;241m8\u001b[39m))\n\u001b[1;32m----> 3\u001b[0m plt\u001b[38;5;241m.\u001b[39msemilogy(day, c_mean_n_adj, label\u001b[38;5;241m=\u001b[39m\u001b[38;5;124m\"\u001b[39m\u001b[38;5;124mc_mean\u001b[39m\u001b[38;5;124m\"\u001b[39m, color\u001b[38;5;241m=\u001b[39m\u001b[38;5;124m\"\u001b[39m\u001b[38;5;124m#AA0000\u001b[39m\u001b[38;5;124m\"\u001b[39m)\n\u001b[0;32m      4\u001b[0m plt\u001b[38;5;241m.\u001b[39merrorbar(day, c_mean_n_adj, yerr\u001b[38;5;241m=\u001b[39msem_c_n_adj, fmt\u001b[38;5;241m=\u001b[39m\u001b[38;5;124m'\u001b[39m\u001b[38;5;124mo\u001b[39m\u001b[38;5;124m'\u001b[39m, capsize\u001b[38;5;241m=\u001b[39m\u001b[38;5;241m5\u001b[39m, color\u001b[38;5;241m=\u001b[39m\u001b[38;5;124m\"\u001b[39m\u001b[38;5;124m#FF0000\u001b[39m\u001b[38;5;124m\"\u001b[39m, alpha\u001b[38;5;241m=\u001b[39m\u001b[38;5;241m0.4\u001b[39m)\n\u001b[0;32m      6\u001b[0m plt\u001b[38;5;241m.\u001b[39msemilogy(day, g_mean_n, label\u001b[38;5;241m=\u001b[39m\u001b[38;5;124m\"\u001b[39m\u001b[38;5;124mg_mean\u001b[39m\u001b[38;5;124m\"\u001b[39m, color\u001b[38;5;241m=\u001b[39m\u001b[38;5;124m\"\u001b[39m\u001b[38;5;124m#00AA00\u001b[39m\u001b[38;5;124m\"\u001b[39m)\n",
      "\u001b[1;31mNameError\u001b[0m: name 'c_mean_n_adj' is not defined"
     ]
    },
    {
     "data": {
      "text/plain": [
       "<Figure size 1000x800 with 0 Axes>"
      ]
     },
     "metadata": {},
     "output_type": "display_data"
    }
   ],
   "source": [
    "plt.figure(figsize=(10, 8))\n",
    "\n",
    "plt.semilogy(day, c_mean_n_adj, label=\"c_mean\", color=\"#AA0000\")\n",
    "plt.errorbar(day, c_mean_n_adj, yerr=sem_c_n_adj, fmt='o', capsize=5, color=\"#FF0000\", alpha=0.4)\n",
    "\n",
    "plt.semilogy(day, g_mean_n, label=\"g_mean\", color=\"#00AA00\")\n",
    "plt.errorbar(day, g_mean_n, yerr=sem_g_n, fmt='o', capsize=5, color=\"#00FF00\", alpha=0.4)\n",
    "\n",
    "plt.semilogy(day, t_mean_n, label=\"t_mean\", color=\"#0000AA\")\n",
    "plt.errorbar(day, t_mean_n, yerr=sem_t_n, fmt='o', capsize=5, color=\"#0000FF\", alpha=0.4)\n",
    "\n",
    "plt.semilogy(day_b, b_mean_n, label=\"b_mean\", color=\"#AA00AA\")\n",
    "plt.errorbar(day_b, b_mean_n, yerr=sem_b_n, fmt='o', capsize=5, color=\"#FF00FF\", alpha=0.4)\n",
    "\n",
    "\n",
    "plt.xlabel(\"Day\")\n",
    "plt.ylabel(\"cells.ml^-1 (normalized)\")\n",
    "plt.title(\"c2 (contamination) disregarded, error bars = normalized SEM\")\n",
    "plt.legend(loc='upper left')\n",
    "plt.show()\n"
   ]
  },
  {
   "cell_type": "markdown",
   "id": "24631e78-5ad7-40c3-a503-b44fab366fd2",
   "metadata": {},
   "source": []
  },
  {
   "cell_type": "code",
   "execution_count": null,
   "id": "99f7f0d8-d8ab-4e11-87c3-50299f3993cb",
   "metadata": {},
   "outputs": [],
   "source": []
  }
 ],
 "metadata": {
  "kernelspec": {
   "display_name": "Python 3 (ipykernel)",
   "language": "python",
   "name": "python3"
  },
  "language_info": {
   "codemirror_mode": {
    "name": "ipython",
    "version": 3
   },
   "file_extension": ".py",
   "mimetype": "text/x-python",
   "name": "python",
   "nbconvert_exporter": "python",
   "pygments_lexer": "ipython3",
   "version": "3.12.7"
  }
 },
 "nbformat": 4,
 "nbformat_minor": 5
}
